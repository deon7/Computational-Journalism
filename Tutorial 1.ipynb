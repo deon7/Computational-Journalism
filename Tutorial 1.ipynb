{
 "cells": [
  {
   "cell_type": "markdown",
   "metadata": {},
   "source": [
    "# A primer to Regular Expression and Web Scraping"
   ]
  },
  {
   "cell_type": "code",
   "execution_count": 1,
   "metadata": {
    "collapsed": false
   },
   "outputs": [
    {
     "name": "stdout",
     "output_type": "stream",
     "text": [
      "['<title>Google</title>']\n",
      "['<title>Yahoo</title>']\n",
      "['<title>MSN.com - Hotmail, Outlook, Skype, Bing, Latest News, Photos &amp; Videos</title>']\n"
     ]
    }
   ],
   "source": [
    "import re, urllib\n",
    "\n",
    "sites = 'google yahoo msn'.split() #This is mainly to store all the webistes you want to scrape\n",
    "\n",
    "use = re.compile(r'<title>+.*</title>+',re.I|re.M) #compile basically works as a function. You can use it to define what it should\n",
    "                                                   #work like and then reference it anywhere later\n",
    "\n",
    "for s in sites: \n",
    "    mainurl = 'http://' + s + '.com'\n",
    "    url = urllib.urlopen(mainurl)\n",
    "    text = url.read()\n",
    "\n",
    "    title = re.findall(use, str(text))\n",
    "    print title\n",
    "\n",
    " \n"
   ]
  },
  {
   "cell_type": "code",
   "execution_count": null,
   "metadata": {
    "collapsed": true
   },
   "outputs": [],
   "source": []
  }
 ],
 "metadata": {
  "kernelspec": {
   "display_name": "Python 2",
   "language": "python",
   "name": "python2"
  },
  "language_info": {
   "codemirror_mode": {
    "name": "ipython",
    "version": 2
   },
   "file_extension": ".py",
   "mimetype": "text/x-python",
   "name": "python",
   "nbconvert_exporter": "python",
   "pygments_lexer": "ipython2",
   "version": "2.7.10"
  }
 },
 "nbformat": 4,
 "nbformat_minor": 0
}
