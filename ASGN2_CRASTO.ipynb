{
 "cells": [
  {
   "cell_type": "markdown",
   "metadata": {},
   "source": [
    "# Assignment 2 - Reproducible Data Analysis with Jupyter\n",
    "\n",
    "This skeleton notebook lays out the various questions and tasks that you need to undertake.\n",
    "\n",
    "Essential links:\n",
    "- College Scorecard: https://collegescorecard.ed.gov/\n",
    "- College Scorecard Data: https://collegescorecard.ed.gov/data/ (Use the data linked as \"Most Recent Data\")\n",
    "- Full data documentation: https://collegescorecard.ed.gov/assets/FullDataDocumentation.pdf\n",
    "- Data dictionary: https://collegescorecard.ed.gov/assets/CollegeScorecardDataDictionary-09-08-2015.csv\n",
    "\n",
    "Additional links:\n",
    "- Some background context on the college scorecard: http://www.nytimes.com/2015/09/13/us/with-website-to-research-colleges-obama-abandons-ranking-system.html\n",
    "- College Scorecard StackExchange: http://opendata.stackexchange.com/questions/tagged/collegescorecard\n"
   ]
  },
  {
   "cell_type": "code",
   "execution_count": 139,
   "metadata": {
    "collapsed": false
   },
   "outputs": [],
   "source": [
    "# Import libraries\n",
    "import pandas as pd\n",
    "import numpy as np\n",
    "import matplotlib\n",
    "import matplotlib.pyplot as plt\n",
    "\n",
    "from pandas import Series\n",
    "\n",
    "# Makes it so that you can scroll horizontally to see all columns of an output DataFrame\n",
    "pd.set_option('display.max_columns', None)\n",
    "\n",
    "# This magic function allows you to see the charts directly within the notebook. \n",
    "%matplotlib inline\n",
    "\n",
    "# This command will make the plots more attractive by adopting the commone style of ggplot\n",
    "matplotlib.style.use(\"ggplot\")"
   ]
  },
  {
   "cell_type": "markdown",
   "metadata": {},
   "source": [
    "### Question 1. What percentage of undergraduate college students attend for-profit schools?"
   ]
  },
  {
   "cell_type": "code",
   "execution_count": 229,
   "metadata": {
    "collapsed": false,
    "scrolled": false
   },
   "outputs": [
    {
     "name": "stdout",
     "output_type": "stream",
     "text": [
      "10.6088659331\n",
      "% of undergraduate college students attend for-profit schools is 10.6%\n"
     ]
    }
   ],
   "source": [
    "df1 = pd.read_csv(\"C:\\Users\\Deon\\Downloads\\data.csv\") #read the file\n",
    "test1 = df1[df1['CONTROL'] == 3] #gives us all the for-profit schools \n",
    "a = test1['UGDS'].sum()\n",
    "no = df1['UGDS']\n",
    "\n",
    "b = no.sum()\n",
    "c= a/b*100  #gives % of students\n",
    "\n",
    "print c\n",
    "\n",
    "print \"% of undergraduate college students attend for-profit schools is 10.6%\" "
   ]
  },
  {
   "cell_type": "markdown",
   "metadata": {},
   "source": [
    "### Question 2. In comparing \"public\", \"private\", and \"for-profit\" schools which type of school has the highest median completion rate for students? Create a bar chart that shows the comparison (be sure to use appropriately labeled axes, tick marks, title, and colors). "
   ]
  },
  {
   "cell_type": "code",
   "execution_count": 238,
   "metadata": {
    "collapsed": false
   },
   "outputs": [
    {
     "data": {
      "text/plain": [
       "<matplotlib.text.Text at 0x6ad2d748>"
      ]
     },
     "execution_count": 238,
     "metadata": {},
     "output_type": "execute_result"
    },
    {
     "data": {
      "image/png": "[encoded data removed]",
      "text/plain": [
       "<matplotlib.figure.Figure at 0x613ff4e0>"
      ]
     },
     "metadata": {},
     "output_type": "display_data"
    }
   ],
   "source": [
    "public = df1[df1['CONTROL'] == 1] #public\n",
    "private = df1[df1['CONTROL'] == 2] #private non-profit\n",
    "profit = df1[df1['CONTROL'] == 3] #for-profit\n",
    "\n",
    "a = public['C200_4'].dropna().median()*100 #completion rate within 8 years for public schools\n",
    "b = private['C200_4'].dropna().median()*100 #completion rate within 8 years for private non-profit schools\n",
    "c = profit['C200_4'].dropna().median()*100 #completion rate within 8 years for for-profit schools\n",
    "\n",
    "ids = [x for x in range(len(combined))]\n",
    "ind = np.arange(3)\n",
    "ax = plt.bar(ids, combined)\n",
    "plt.xlabel('Type of School')\n",
    "plt.ylabel('Median Completion rate(%)')\n",
    "plt.xticks(ind+0.35, ('public', 'private non-profit', 'for-profit'))\n",
    "ax[0].set_color('r') \n",
    "ax[1].set_color('g') \n",
    "\n",
    "plt.title('School type vs % completion rate')\n",
    "\n"
   ]
  },
  {
   "cell_type": "markdown",
   "metadata": {},
   "source": [
    "### Question 3. Among predominently four-year schools, what is the median debt of graduates in dollars? Do men or women typically have higher debt and by how much?"
   ]
  },
  {
   "cell_type": "code",
   "execution_count": 239,
   "metadata": {
    "collapsed": false
   },
   "outputs": [
    {
     "name": "stdout",
     "output_type": "stream",
     "text": [
      "median debt of graduates in dollars is $\n",
      "17500.0\n",
      "Men have a median debt of $\n",
      "16361.25\n",
      "Women have a median debt of $\n",
      "18250.0\n",
      "Therefore Women have a higher median debt by $\n",
      "1888.75\n"
     ]
    },
    {
     "name": "stderr",
     "output_type": "stream",
     "text": [
      "C:\\Users\\Deon\\Anaconda2\\lib\\site-packages\\ipykernel\\__main__.py:5: FutureWarning: convert_objects is deprecated.  Use the data-type specific converters pd.to_datetime, pd.to_timedelta and pd.to_numeric.\n",
      "C:\\Users\\Deon\\Anaconda2\\lib\\site-packages\\ipykernel\\__main__.py:10: FutureWarning: convert_objects is deprecated.  Use the data-type specific converters pd.to_datetime, pd.to_timedelta and pd.to_numeric.\n",
      "C:\\Users\\Deon\\Anaconda2\\lib\\site-packages\\ipykernel\\__main__.py:13: FutureWarning: convert_objects is deprecated.  Use the data-type specific converters pd.to_datetime, pd.to_timedelta and pd.to_numeric.\n"
     ]
    }
   ],
   "source": [
    "four_year = df1[df1['PREDDEG'] ==3]\n",
    "\n",
    "#four_year['DEBT_MDN'].median()\n",
    "\n",
    "a = four_year['DEBT_MDN'].convert_objects(convert_numeric=True).median()\n",
    "\n",
    "print \"median debt of graduates in dollars is $\"\n",
    "print a\n",
    "\n",
    "b = four_year['MALE_DEBT_MDN'].convert_objects(convert_numeric=True).median() # male debt\n",
    "print \"Men have a median debt of $\" \n",
    "print b \n",
    "c = four_year['FEMALE_DEBT_MDN'].convert_objects(convert_numeric=True).median() #female debt\n",
    "print \"Women have a median debt of $\"\n",
    "print c\n",
    "difference = c-b\n",
    "\n",
    "print \"Therefore Women have a higher median debt by $\"\n",
    "print difference"
   ]
  },
  {
   "cell_type": "markdown",
   "metadata": {},
   "source": [
    "### Question 4. How do predominently four-year schools compare to predominently two-year schools in terms of the percentage of students that are unable to repay even $1 of their loan within three years of graduation? Amongst all four-year schools and excluding schools with a \"special focus\" according to the Carnegie classification, which school has the highest percentage of such students?"
   ]
  },
  {
   "cell_type": "code",
   "execution_count": 312,
   "metadata": {
    "collapsed": false
   },
   "outputs": [
    {
     "name": "stderr",
     "output_type": "stream",
     "text": [
      "C:\\Users\\Deon\\Anaconda2\\lib\\site-packages\\ipykernel\\__main__.py:3: FutureWarning: convert_objects is deprecated.  Use the data-type specific converters pd.to_datetime, pd.to_timedelta and pd.to_numeric.\n",
      "  app.launch_new_instance()\n",
      "C:\\Users\\Deon\\Anaconda2\\lib\\site-packages\\ipykernel\\__main__.py:10: FutureWarning: convert_objects is deprecated.  Use the data-type specific converters pd.to_datetime, pd.to_timedelta and pd.to_numeric.\n"
     ]
    },
    {
     "name": "stdout",
     "output_type": "stream",
     "text": [
      "% of people who are unable to pay even $1 of their loan within three years of graduation at 4 year schools is: \n",
      "0.189034244777\n",
      "% of people who are unable to pay even $1 of their loan within three years of graduation at 2 year schools is: \n",
      "0.36420004161\n",
      "Therefore nearly twice as many people at 2 year schools are unable to repay even $1 of their loan within three years of graduation as compared to 4-year school graduates\n",
      "From the below above Carnegie list, we know that Arkansas Baptist College has the highest number of students unable to pay even $1 of their loan within three years of graduation\n"
     ]
    }
   ],
   "source": [
    "four_year = df1[df1['PREDDEG'] ==3] #4-year schools\n",
    "\n",
    "a = four_year['COMPL_RPY_3YR_RT'].convert_objects(convert_numeric=True).mean() #taking the average and converting all elements to numeric\n",
    "\n",
    "\n",
    "print \"% of people who are unable to pay even $1 of their loan within three years of graduation at 4 year schools is: \"\n",
    "print 1-a\n",
    "two_year = df1[df1['PREDDEG'] ==2] #2-year schools\n",
    "\n",
    "b= two_year['COMPL_RPY_3YR_RT'].convert_objects(convert_numeric=True).mean() #taking the average and converting all elements to numeric\n",
    "print \"% of people who are unable to pay even $1 of their loan within three years of graduation at 2 year schools is: \"\n",
    "print 1-b\n",
    "\n",
    "print \"Therefore nearly twice as many people at 2 year schools are unable to repay even $1 of their loan within three years of graduation as compared to 4-year school graduates\"\n",
    "carnegie = four_year[four_year[\"CCBASIC\"] != 24]  #excluding special focus schools\n",
    "carnegie = carnegie[carnegie[\"CCBASIC\"] != 25]  \n",
    "carnegie = carnegie[carnegie[\"CCBASIC\"] != 26]  \n",
    "carnegie = carnegie[carnegie[\"CCBASIC\"] != 27]  \n",
    "carnegie = carnegie[carnegie[\"CCBASIC\"] != 28]  \n",
    "carnegie = carnegie[carnegie[\"CCBASIC\"] != 29]  \n",
    "carnegie = carnegie[carnegie[\"CCBASIC\"] != 30]  \n",
    "carnegie = carnegie[carnegie[\"CCBASIC\"] != 31]  \n",
    "carnegie = carnegie[carnegie[\"CCBASIC\"] != 32]  \n",
    "\n",
    "\n",
    "carnegie = carnegie.sort_values(by=\"RPY_3YR_RT\")\n",
    "print carnegie\n",
    "\n",
    "print \"From the below above Carnegie list, we know that Arkansas Baptist College has the highest number of students unable to pay even $1 of their loan within three years of graduation\""
   ]
  },
  {
   "cell_type": "markdown",
   "metadata": {},
   "source": [
    "### Question 5. Create two histogram charts in order to compare the average annual cost of attendance for four-year schools and two-year schools (be sure to include appropriate axes, labels, and titles on the charts)."
   ]
  },
  {
   "cell_type": "code",
   "execution_count": 191,
   "metadata": {
    "collapsed": false
   },
   "outputs": [
    {
     "name": "stderr",
     "output_type": "stream",
     "text": [
      "C:\\Users\\Deon\\Anaconda2\\lib\\site-packages\\ipykernel\\__main__.py:6: FutureWarning: convert_objects is deprecated.  Use the data-type specific converters pd.to_datetime, pd.to_timedelta and pd.to_numeric.\n",
      "C:\\Users\\Deon\\Anaconda2\\lib\\site-packages\\ipykernel\\__main__.py:8: FutureWarning: convert_objects is deprecated.  Use the data-type specific converters pd.to_datetime, pd.to_timedelta and pd.to_numeric.\n"
     ]
    },
    {
     "data": {
      "image/png": "[encoded data removed]",
      "text/plain": [
       "<matplotlib.figure.Figure at 0x1a8f0978>"
      ]
     },
     "metadata": {},
     "output_type": "display_data"
    },
    {
     "data": {
      "image/png": "[encoded data removed]",
      "text/plain": [
       "<matplotlib.figure.Figure at 0x1b333be0>"
      ]
     },
     "metadata": {},
     "output_type": "display_data"
    }
   ],
   "source": [
    "four_year = df1[df1['PREDDEG'] ==3] #4 year schools\n",
    "a = four_year['COSTT4_A'] #ASSUMPTION: I’ve only considered academic year institutions(COSTT4_A) and NOT program-year institutions (COSTT4_P) to detail the histogram. \n",
    "two_year =  df1[df1['PREDDEG'] ==2] # 2 year schools\n",
    "b=two_year['COSTT4_A']\n",
    "\n",
    "a = a.convert_objects(convert_numeric=True).dropna() #drop null values\n",
    "\n",
    "b= b.convert_objects(convert_numeric=True).dropna() #drop null values\n",
    "\n",
    "bins = [5000,10000,15000,20000,25000,30000,35000,40000,45000,50000,55000,60000,65000]\n",
    "\n",
    "plt.hist(a,bins,histtype = 'bar')\n",
    "plt.xlabel('Cost in $')\n",
    "plt.ylabel('number of schools')\n",
    "plt.title('Cost of Attentance for 4 year schools')\n",
    "plt.show()\n",
    "\n",
    "\n",
    "plt.hist(b,bins,histtype = 'bar')\n",
    "plt.xlabel('Cost in $')\n",
    "plt.ylabel('number of schools')\n",
    "plt.title('Cost of Attentance for 2 year schools')\n",
    "plt.show()"
   ]
  },
  {
   "cell_type": "markdown",
   "metadata": {},
   "source": [
    "### Your Own Data-Driven Insight\n",
    "Come up with a unique insight by analyzing the data in a way that hasn't been considered in the previous questions. You might examine other variables or charting options for instance. Your insight should be easily stated in a sentence or two, or captured by a chart that could be similarly explained in a caption. Spend some time trying to make your insight something that could be a headline for a news article - that could entail some type of surprising result, social inequity, or implication for education policy. Be sure to show your entire code and process for deriving your insight. "
   ]
  },
  {
   "cell_type": "code",
   "execution_count": 228,
   "metadata": {
    "collapsed": false
   },
   "outputs": [
    {
     "name": "stdout",
     "output_type": "stream",
     "text": [
      "Public school retention rate is \n",
      "74.6163978495\n",
      "Private non-profit school retention rate is \n",
      "74.400264731\n",
      "Private for-profit retention rate is \n",
      "50.0073003802\n",
      "Public and Private non -profit schools 50% more likely to retain Full time students as compared to private for-profit schools\n"
     ]
    }
   ],
   "source": [
    "\n",
    " \n",
    "\n",
    "four_year = df1[df1['PREDDEG'] ==3] #4-year schools\n",
    "\n",
    "public_four_year=four_year[four_year[\"CONTROL\"] == 1] #public schools\n",
    "public_ret_rate = public_four_year['RET_FT4'].mean() #retention rate\n",
    "\n",
    "print \"Public school retention rate is \"\n",
    "print public_ret_rate*100\n",
    "\n",
    "private_nonprofit_four_year = four_year[four_year[\"CONTROL\"] == 2] #private non-profit schools\n",
    "private_nonprofit_ret_rate = private_nonprofit_four_year['RET_FT4'].mean() #retention rate\n",
    "print \"Private non-profit school retention rate is \"\n",
    "print private_nonprofit_ret_rate*100\n",
    "\n",
    "four_year_profit=four_year[four_year[\"CONTROL\"] == 3] #private for-profit\n",
    "profit_ret_rate = four_year_profit['RET_FT4'].mean() #retention rate\n",
    "\n",
    "print \"Private for-profit retention rate is \"\n",
    "print non_profit_ret_rate*100\n",
    "\n",
    "print \"Public and Private non -profit schools 50% more likely to retain Full time students as compared to private for-profit schools\""
   ]
  },
  {
   "cell_type": "markdown",
   "metadata": {},
   "source": [
    "### Create a Ranking\n",
    "Take the first college ranking (i.e. \"Schools That Make You Money\") discussed in the following article and \"re-create\" it as best you can using the original data to compute a rating score. Note the methodology at the end of the article carefully, but realize that your actual ratings and ranking will NOT exactly match the ranking shown in the article. The reason for this is that the filtering of schools was done qualitatively (by the journalist) and is therefore not repeatable in a data-driven way.\n",
    "\n",
    "- Obama Won't Rate Colleges, So We Did:  http://www.npr.org/sections/money/2015/09/18/440973097/obama-wont-rate-colleges-so-we-did\n",
    "\n",
    "From the article: \"A note about the data and methodology. We filtered for schools where the predominant degree granted is a four-year bachelor's degree. We also filter out trade-specific schools and religious programs like seminaries and yeshivas. There are also a few limitations to the income data that the government released. Incomes reported in the data set include only students who took out federal loans from the government. Each institution's score is based on a weighted sum of z-scores for each variable mentioned in the list. Ratings cannot be compared across lists.\""
   ]
  },
  {
   "cell_type": "code",
   "execution_count": 326,
   "metadata": {
    "collapsed": false,
    "scrolled": false
   },
   "outputs": [
    {
     "name": "stderr",
     "output_type": "stream",
     "text": [
      "C:\\Users\\Deon\\Anaconda2\\lib\\site-packages\\ipykernel\\__main__.py:16: FutureWarning: convert_objects is deprecated.  Use the data-type specific converters pd.to_datetime, pd.to_timedelta and pd.to_numeric.\n",
      "C:\\Users\\Deon\\Anaconda2\\lib\\site-packages\\ipykernel\\__main__.py:21: FutureWarning: convert_objects is deprecated.  Use the data-type specific converters pd.to_datetime, pd.to_timedelta and pd.to_numeric.\n"
     ]
    },
    {
     "name": "stdout",
     "output_type": "stream",
     "text": [
      "                                         INSTNM  rating_private\n",
      "1                            Harvard University        3.046511\n",
      "2         Massachusetts Institute of Technology        2.906576\n",
      "3                          Princeton University        2.654226\n",
      "4                           Stanford University        2.642658\n",
      "5                         Georgetown University        2.244358\n",
      "6                    University of Pennsylvania        2.219501\n",
      "7                           Harvey Mudd College        2.126043\n",
      "8                 Washington and Lee University        2.084255\n",
      "9   Columbia University in the City of New York        1.934325\n",
      "10              Stevens Institute of Technology        1.930695\n",
      "11                              Duke University        1.923840\n",
      "12                              Yale University        1.876911\n",
      "13           California Institute of Technology        1.868419\n",
      "14             Rensselaer Polytechnic Institute        1.866619\n",
      "15                            Lehigh University        1.772304\n",
      "16                           Cornell University        1.683377\n",
      "17                           Bentley University        1.675670\n",
      "18                     Johns Hopkins University        1.583597\n",
      "19                     University of Notre Dame        1.572622\n",
      "20                        Vanderbilt University        1.532098\n",
      "                                           INSTNM  rating_public\n",
      "1     Georgia Institute of Technology-Main Campus       2.038765\n",
      "2               University of California-Berkeley       1.400610\n",
      "3                   University of Colorado Denver       1.361640\n",
      "4            University of California-Los Angeles       1.218671\n",
      "5                   CUNY Bernard M Baruch College       1.139837\n",
      "6              University of California-San Diego       1.137903\n",
      "7                 University of California-Irvine       1.109377\n",
      "8   Missouri University of Science and Technology       1.102485\n",
      "9                        Colorado School of Mines       1.009575\n",
      "10             University of Virginia-Main Campus       0.998077\n",
      "11               University of Michigan-Ann Arbor       0.981302\n",
      "12            University of Maryland-College Park       0.968543\n",
      "13             University of Connecticut-Stamford       0.956435\n",
      "14         Texas A & M University-College Station       0.948078\n",
      "15                 University of California-Davis       0.915940\n",
      "16              Michigan Technological University       0.900999\n",
      "17             New Jersey Institute of Technology       0.880999\n",
      "18                             SUNY at Binghamton       0.877197\n",
      "19        University of Washington-Seattle Campus       0.876575\n",
      "20                          University of Florida       0.849618\n"
     ]
    },
    {
     "name": "stderr",
     "output_type": "stream",
     "text": [
      "C:\\Users\\Deon\\Anaconda2\\lib\\site-packages\\ipykernel\\__main__.py:27: FutureWarning: convert_objects is deprecated.  Use the data-type specific converters pd.to_datetime, pd.to_timedelta and pd.to_numeric.\n",
      "C:\\Users\\Deon\\Anaconda2\\lib\\site-packages\\ipykernel\\__main__.py:33: FutureWarning: convert_objects is deprecated.  Use the data-type specific converters pd.to_datetime, pd.to_timedelta and pd.to_numeric.\n"
     ]
    }
   ],
   "source": [
    "from scipy.stats import zscore\n",
    "\n",
    "\n",
    "school_rank = four_year[four_year[\"CCBASIC\"] != 22]  #filtering out schools not used in analysis\n",
    "school_rank = school_rank[school_rank[\"CCBASIC\"] != 23]\n",
    "school_rank = school_rank[school_rank[\"CCBASIC\"] != 24] \n",
    "school_rank = school_rank[school_rank[\"CCBASIC\"] != 25]  \n",
    "school_rank = school_rank[school_rank[\"CCBASIC\"] != 26]\n",
    "school_rank = school_rank[school_rank[\"CCBASIC\"] != 27]\n",
    "school_rank = school_rank[school_rank[\"CCBASIC\"] != 28]\n",
    "school_rank = school_rank[school_rank[\"CCBASIC\"] != 29]\n",
    "school_rank = school_rank[school_rank[\"CCBASIC\"] != 30]\n",
    "school_rank = school_rank[school_rank[\"CCBASIC\"] != 31]\n",
    "school_rank = school_rank[school_rank[\"CCBASIC\"] != 32]\n",
    "\n",
    "income_10_yrs = school_rank['md_earn_wne_p10'].convert_objects(convert_numeric=True).dropna() #income\n",
    "z = income_10_yrs                    # initialise array for zscores\n",
    "z[~np.isnan(income_10_yrs)] = zscore(income_10_yrs[~np.isnan(income_10_yrs)])\n",
    "school_rank['income_zscore'] = z\n",
    "\n",
    "on_time_grad = school_rank['C150_4'].convert_objects(convert_numeric=True).dropna() #graduation time\n",
    "x = on_time_grad                   # initialise array for zscores\n",
    "x[~np.isnan(on_time_grad)] = zscore(on_time_grad[~np.isnan(on_time_grad)]) #z-score of all values that are not NAN\n",
    "\n",
    "school_rank['on_time_grad'] = x\n",
    "\n",
    "private_net = school_rank['NPT4_PRIV'].convert_objects(convert_numeric=True) #net cost for private schools\n",
    "y = private_net                   # initialise array for zscores\n",
    "y[~np.isnan(private_net)] = zscore(private_net[~np.isnan(private_net)]) #z-score of all values that are not NAN\n",
    "\n",
    "school_rank['private_net'] = y\n",
    "\n",
    "public_net = school_rank['NPT4_PUB'].convert_objects(convert_numeric=True) #net cost for private schools\n",
    "b = public_net                   # initialise array for zscores\n",
    "b[~np.isnan(public_net)] = zscore(public_net[~np.isnan(public_net)]) #z-score of all values that are not NAN \n",
    "\n",
    "school_rank['public_net'] = b\n",
    "#formula to calculate rating score\n",
    "school_rank['rating_public'] = (0.5*school_rank['income_zscore']+0.25*school_rank['on_time_grad'] -0.25*school_rank['public_net'])\n",
    "school_rank['rating_private'] = (0.5*school_rank['income_zscore']+0.25*school_rank['on_time_grad'] -0.25*school_rank['private_net'])\n",
    "school_rank['rating'] = school_rank['rating_private'].dropna() + school_rank['rating_public'].dropna() \n",
    "combine_ranking = school_rank.sort_values(by=\"rating\", ascending=False)\n",
    "\n",
    "\n",
    "#school_rank['rating'] = (0.5*school_rank['income_zscore']+0.25*school_rank['on_time_grad'] +0.25*school_rank['public_net'])\n",
    "#school_rank['rating'] = (0.5*school_rank['income_zscore']+0.25*school_rank['on_time_grad'] +0.25*school_rank['private_net'])\n",
    "\n",
    "\n",
    "combine_ranking[[\"INSTNM\",\"md_earn_wne_p10\",\"income_zscore\",\"on_time_grad\", \"public_net\", \"rating\"]]\n",
    "\n",
    "a = school_rank.sort_values(by=\"rating_private\", ascending=False)\n",
    "a = a[[\"INSTNM\",\"rating_private\"]].head(20) #ranking system is almost similar to NPR\n",
    "a.index = range(1,len(a) + 1)\n",
    "print a\n",
    "b = school_rank.sort_values(by=\"rating_public\", ascending = False) #ranking system is almost similar to NPR\n",
    "b = b[[\"INSTNM\",\"rating_public\"]].head(20)\n",
    "b.index = range(1,len(b) + 1)\n",
    "print b\n",
    "\n",
    "\n",
    "#note: I have segregated rankings between private and public for better understanding and not kept the combined list but can be \n",
    "# easily concatenated to give combined rating\n",
    "\n"
   ]
  },
  {
   "cell_type": "code",
   "execution_count": 333,
   "metadata": {
    "collapsed": false
   },
   "outputs": [
    {
     "name": "stdout",
     "output_type": "stream",
     "text": [
      "UMD's rank is 11th amongst public schools\n",
      "                                   INSTNM  income_zscore  on_time_grad  \\\n",
      "1769  University of Maryland-College Park       1.545076      1.493938   \n",
      "\n",
      "      public_net  \n",
      "1769    0.709919  \n",
      "assigning new weights to 10 years after entry (35%), on-time graduation rates (45%) and net price (20%)\n",
      "1769    1.071065\n",
      "dtype: float64\n"
     ]
    }
   ],
   "source": [
    "#BONUS\n",
    "print \"UMD's rank is 11th amongst public schools\"\n",
    "\n",
    "#We can improve the rankings by improving the z-score variables or increasing the weights where it favours the overallranking.\n",
    "\n",
    "a = school_rank[school_rank[\"INSTNM\"] == \"University of Maryland-College Park\"]\n",
    "\n",
    "print a[[\"INSTNM\", \"income_zscore\",\"on_time_grad\", \"public_net\"]]\n",
    "\n",
    "print \"assigning new weights to 10 years after entry (35%), on-time graduation rates (45%) and net price (20%)\"\n",
    "\n",
    "ranking = 0.35*a[\"income_zscore\"] + 0.45*a[\"on_time_grad\"] - 0.2*a[\"public_net\"] #new weights\n",
    "\n",
    "#We can try different weights in this way to check what is UMD's highest ranking and improve the overall rating of the college\n",
    "\n",
    "print ranking #here rating is greater than current rating(0.98) \n",
    "\n"
   ]
  },
  {
   "cell_type": "code",
   "execution_count": null,
   "metadata": {
    "collapsed": true
   },
   "outputs": [],
   "source": []
  },
  {
   "cell_type": "code",
   "execution_count": null,
   "metadata": {
    "collapsed": true
   },
   "outputs": [],
   "source": []
  },
  {
   "cell_type": "code",
   "execution_count": null,
   "metadata": {
    "collapsed": true
   },
   "outputs": [],
   "source": []
  },
  {
   "cell_type": "code",
   "execution_count": null,
   "metadata": {
    "collapsed": true
   },
   "outputs": [],
   "source": []
  },
  {
   "cell_type": "code",
   "execution_count": null,
   "metadata": {
    "collapsed": true
   },
   "outputs": [],
   "source": []
  },
  {
   "cell_type": "code",
   "execution_count": null,
   "metadata": {
    "collapsed": true
   },
   "outputs": [],
   "source": []
  },
  {
   "cell_type": "code",
   "execution_count": null,
   "metadata": {
    "collapsed": true
   },
   "outputs": [],
   "source": []
  },
  {
   "cell_type": "code",
   "execution_count": null,
   "metadata": {
    "collapsed": true
   },
   "outputs": [],
   "source": []
  }
 ],
 "metadata": {
  "kernelspec": {
   "display_name": "Python 2",
   "language": "python",
   "name": "python2"
  },
  "language_info": {
   "codemirror_mode": {
    "name": "ipython",
    "version": 2
   },
   "file_extension": ".py",
   "mimetype": "text/x-python",
   "name": "python",
   "nbconvert_exporter": "python",
   "pygments_lexer": "ipython2",
   "version": "2.7.11"
  }
 },
 "nbformat": 4,
 "nbformat_minor": 0
}
