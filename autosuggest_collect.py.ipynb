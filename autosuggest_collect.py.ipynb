{
 "cells": [
  {
   "cell_type": "markdown",
   "metadata": {},
   "source": [
    "# Autosuggestion Collection\n",
    "This function handles the core process of collecting autosuggestion data from Google or Bing."
   ]
  },
  {
   "cell_type": "code",
   "execution_count": 2,
   "metadata": {
    "collapsed": false
   },
   "outputs": [],
   "source": [
    "import requests\n",
    "import urllib\n",
    "\n",
    "# ----------------------------------------------------------------------------------------------------------------\n",
    "# collect_autosuggestions\n",
    "#\n",
    "# parameters:\n",
    "# \"source\" is either \"google\" or \"bing\"\n",
    "# \"tld\" stands for \"top level domain\" and can be any of the 2-letter country codes listed here where google operates: https://en.wikipedia.org/wiki/ISO_3166-1_alpha-2\n",
    "# \"lang\" is the language of the suggestions returned, should be two letter codes from here: https://en.wikipedia.org/wiki/List_of_ISO_639-1_codes\n",
    "# \"query\" is the query that you would like to see autocompleted\n",
    "# ----------------------------------------------------------------------------------------------------------------\n",
    "\n",
    "def collect_autosuggestions(source, tld, lang, query):\n",
    "    if source == \"google\":\n",
    "        # Some info on this api: http://shreyaschand.com/blog/2013/01/03/google-autocomplete-api/\n",
    "        url = 'http://www.google.'+tld+'/complete/search?&client=firefox&%s' % (urllib.urlencode({'q': query.encode('utf-8'), 'hl': lang}))\n",
    "       \n",
    "    elif source == \"bing\":\n",
    "        # Note: for Bing the language is controlled by the tld, so the lang parameter will have no effect on its own\n",
    "        url = 'http://api.bing.com/osjson.aspx?%s' % (urllib.urlencode({'query': query.encode('utf-8'), 'cc': tld}))\n",
    "   \n",
    "    r = requests.get(url)\n",
    "    suggestions = r.json()[1]\n",
    "    return suggestions"
   ]
  },
  {
   "cell_type": "code",
   "execution_count": 5,
   "metadata": {
    "collapsed": false
   },
   "outputs": [
    {
     "name": "stdout",
     "output_type": "stream",
     "text": [
      "[u'donald trump', u'donald trump wife', u'donald trump twitter', u'donald trump quotes', u'donald trump daughter', u'donald trump jr', u'donald trump president', u'donald trump vermogen', u'donald trump house', u'donald trump uitspraken']\n",
      "                suggestion             datetime   search_term  tld language  \\\n",
      "0             donald trump  2000-01-01 00:00:00  Donald Trump  com       en   \n",
      "1        donald trump wife  2000-01-01 00:00:00  Donald Trump  com       en   \n",
      "2     donald trump twitter  2000-01-01 00:00:00  Donald Trump  com       en   \n",
      "3      donald trump quotes  2000-01-01 00:00:00  Donald Trump  com       en   \n",
      "4    donald trump daughter  2000-01-01 00:00:00  Donald Trump  com       en   \n",
      "5          donald trump jr  2000-01-01 00:00:00  Donald Trump  com       en   \n",
      "6   donald trump president  2000-01-01 00:00:00  Donald Trump  com       en   \n",
      "7    donald trump vermogen  2000-01-01 00:00:00  Donald Trump  com       en   \n",
      "8       donald trump house  2000-01-01 00:00:00  Donald Trump  com       en   \n",
      "9  donald trump uitspraken  2000-01-01 00:00:00  Donald Trump  com       en   \n",
      "\n",
      "   engine  \n",
      "0  google  \n",
      "1  google  \n",
      "2  google  \n",
      "3  google  \n",
      "4  google  \n",
      "5  google  \n",
      "6  google  \n",
      "7  google  \n",
      "8  google  \n",
      "9  google  \n"
     ]
    }
   ],
   "source": [
    "# Example of using the function to collect from google.com the english language suggestions for \"Hillary Clinton\"\n",
    "suggestions = collect_autosuggestions(\"google\", \"nl\", \"dut\", \"Donald Trump\")\n",
    "print suggestions\n",
    "\n",
    "# And example of putting data in Pandas dataframe and exporting the data to a .csv\n",
    "import pandas as pd\n",
    "import datetime\n",
    "\n",
    "suggestions_df = pd.DataFrame({\"suggestion\": suggestions})\n",
    "suggestions_df[\"datetime\"] = datetime.datetime.strftime(datetime.datetime.now(),'2000-01-01 00:00:00')\n",
    "suggestions_df[\"search_term\"] = \"Donald Trump\"\n",
    "suggestions_df[\"tld\"] = \"com\"\n",
    "suggestions_df[\"language\"] = \"en\"\n",
    "suggestions_df[\"engine\"] = \"google\"\n",
    "print suggestions_df\n",
    "\n",
    "suggestions_df.to_csv(\"suggestions_test.csv\")"
   ]
  },
  {
   "cell_type": "code",
   "execution_count": null,
   "metadata": {
    "collapsed": true
   },
   "outputs": [],
   "source": []
  }
 ],
 "metadata": {
  "kernelspec": {
   "display_name": "Python 2",
   "language": "python",
   "name": "python2"
  },
  "language_info": {
   "codemirror_mode": {
    "name": "ipython",
    "version": 2
   },
   "file_extension": ".py",
   "mimetype": "text/x-python",
   "name": "python",
   "nbconvert_exporter": "python",
   "pygments_lexer": "ipython2",
   "version": "2.7.10"
  }
 },
 "nbformat": 4,
 "nbformat_minor": 0
}
