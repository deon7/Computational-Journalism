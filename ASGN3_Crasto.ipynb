{
 "cells": [
  {
   "cell_type": "markdown",
   "metadata": {},
   "source": [
    "# Bot Skeleton"
   ]
  },
  {
   "cell_type": "markdown",
   "metadata": {},
   "source": [
    "The next cell will authenticate your bot based on your keys and tokens. See the [Tweepy tutorial](https://github.com/comp-journalism/UMD-J479V-J779V-Spring2016/blob/master/Weekly/Week_5/Tweepy-skeleton.ipynb) for more details. "
   ]
  },
  {
   "cell_type": "code",
   "execution_count": 1,
   "metadata": {
    "collapsed": false
   },
   "outputs": [
    {
     "name": "stdout",
     "output_type": "stream",
     "text": [
      "weepybot7\n"
     ]
    }
   ],
   "source": [
    "import tweepy\n",
    "\n",
    "#Setup and authenticate Tweepy\n",
    "CONSUMER_KEY = \"3TBWGvETuD0tPOeGpuRPilS3w\"\n",
    "CONSUMER_SECRET = \"D29UleavU5I8vHbr5QIef07QZbowoe0cQXTLafZh2IBzsKWlWt\"\n",
    "ACCESS_TOKEN = \"710719463256158208-V5nrhimCswte3we5Z0lKyazqYUaNaXr\"\n",
    "ACCESS_TOKEN_SECRET = \"wLnhHQCXYg47FLk8VbGJCcTOFjb3vVzTbu59mRan5mRA2\"\n",
    "\n",
    "auth = tweepy.OAuthHandler(CONSUMER_KEY, CONSUMER_SECRET)\n",
    "auth.set_access_token(ACCESS_TOKEN, ACCESS_TOKEN_SECRET)\n",
    "api = tweepy.API(auth)\n",
    "\n",
    "me = api.me()\n",
    "print me.screen_name"
   ]
  },
  {
   "cell_type": "markdown",
   "metadata": {},
   "source": [
    "The next cell has a number of essential functions that allow your bot to listen to the twitter stream and then respond. The assignment involves fleshing out the editorial logic of the bot and writing code in the sections marked \"TODO\"."
   ]
  },
  {
   "cell_type": "code",
   "execution_count": 2,
   "metadata": {
    "collapsed": false
   },
   "outputs": [],
   "source": [
    "import random\n",
    "import json\n",
    "import time\n",
    "\n",
    "# If debug_mode is True then the bot won't actually tweet. Set debug_mode = False for it to tweet. \n",
    "debug_mode = False\n",
    "\n",
    "\n",
    "\n",
    "def listen():\n",
    "    import time\n",
    "    old_time = time.time()\n",
    "    print \"listening\"\n",
    "    # below list_tweets variable stores all tweets under the following URL: (https://twitter.com/tweetcongress/lists/republican)\n",
    "    list_tweets = api.list_timeline(\"tweetcongress\", \"republican\", count=1, page=1 ) #lists all tweets from the republican members under the tweetcongress' 'republican' list \n",
    "    try:\n",
    "        while True:\n",
    "        \n",
    "            for tweet in list_tweets:\n",
    "                #t_list.append(tweet.id)\n",
    "            \n",
    "                api.retweet(tweet.id)\n",
    "                print \"just retweeted some new Republican Congressperson's tweet!\"\n",
    "            \n",
    "        \n",
    "            print \"sleeping now for 2 hours\"\n",
    "            time.sleep(7200) #7200 seconds = 2 hours\n",
    "    except Exception as e: \n",
    "        time.sleep(900) #if exception, allow application to sleep for 900 seconds or 15 minutes and then let it search again.\n",
    "        print \"exception\"\n",
    "        listen()\n",
    "   "
   ]
  },
  {
   "cell_type": "markdown",
   "metadata": {},
   "source": [
    "The next cell will actually run the bot and set it to listen to Twitter."
   ]
  },
  {
   "cell_type": "code",
   "execution_count": null,
   "metadata": {
    "collapsed": false
   },
   "outputs": [],
   "source": [
    "listen()"
   ]
  }
 ],
 "metadata": {
  "kernelspec": {
   "display_name": "Python 2",
   "language": "python",
   "name": "python2"
  },
  "language_info": {
   "codemirror_mode": {
    "name": "ipython",
    "version": 2
   },
   "file_extension": ".py",
   "mimetype": "text/x-python",
   "name": "python",
   "nbconvert_exporter": "python",
   "pygments_lexer": "ipython2",
   "version": "2.7.10"
  }
 },
 "nbformat": 4,
 "nbformat_minor": 0
}
