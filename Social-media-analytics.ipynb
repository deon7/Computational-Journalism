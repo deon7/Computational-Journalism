{
 "cells": [
  {
   "cell_type": "markdown",
   "metadata": {},
   "source": [
    "# Social Media Analytics\n",
    "Twitter data can be useful in a number of different ways for journalism, such as helping to identify events, to understand the aggregate flows and trends of information, or to locate key sources within the network. "
   ]
  },
  {
   "cell_type": "code",
   "execution_count": 1,
   "metadata": {
    "collapsed": true
   },
   "outputs": [],
   "source": [
    "# Import libraries\n",
    "import pandas as pd\n",
    "import numpy as np\n",
    "import matplotlib\n",
    "import matplotlib.pyplot as plt\n",
    "\n",
    "# Makes it so that you can scroll horizontally to see all columns of an output DataFrame\n",
    "pd.set_option('display.max_columns', None)\n",
    "# Make it so urls and tweets won't get truncated when we print them out\n",
    "pd.set_option('display.max_colwidth', -1)\n",
    "\n",
    "# This magic function allows you to see the charts directly within the notebook. \n",
    "%matplotlib inline\n",
    "\n",
    "# This command will make the plots more attractive by adopting the commone style of ggplot\n",
    "matplotlib.style.use(\"ggplot\")"
   ]
  },
  {
   "cell_type": "markdown",
   "metadata": {},
   "source": [
    "### Gamergate\n",
    "Andy Baio collected thousands of tweets over a period of 72 hours which used the #Gamergate hashtag. His analysis is [here](https://medium.com/message/72-hours-of-gamergate-e00513f7cf5d#.c12plmtcf) but below we'll start from his raw data and do some of our own analysis. You can download the data [here](https://www.dropbox.com/s/5zeuic9qr8v8y4n/gamergate_tweets_hydrated.csv?dl=0). "
   ]
  },
  {
   "cell_type": "code",
   "execution_count": 2,
   "metadata": {
    "collapsed": false
   },
   "outputs": [
    {
     "data": {
      "text/plain": [
       "Index([u'long', u'lat', u'created_at', u'hashtags', u'media', u'urls',\n",
       "       u'favorite_count', u'id', u'in_reply_to_screen_name',\n",
       "       u'is_quote_status', u'in_reply_to_status_id', u'in_reply_to_user_id',\n",
       "       u'lang', u'place', u'state', u'country', u'possibly_sensitive',\n",
       "       u'retweet_count', u'reweet_id', u'retweet_screen_name', u'source',\n",
       "       u'text', u'tweet_url', u'user_created_at', u'user_screen_name',\n",
       "       u'user_default_profile_image', u'user_description',\n",
       "       u'user_favourites_count', u'user_followers_count',\n",
       "       u'user_friends_count', u'user_listed_count', u'user_location',\n",
       "       u'user_name', u'user_statuses_count', u'user_time_zone', u'user_urls',\n",
       "       u'user_verified', u'user_lang'],\n",
       "      dtype='object')"
      ]
     },
     "execution_count": 2,
     "metadata": {},
     "output_type": "execute_result"
    }
   ],
   "source": [
    "gg_df = pd.read_csv(\"C:\\Users\\Deon\\Downloads\\gamergate_tweets_hydrated.csv\")\n",
    "\n",
    "# Print out the column headings to see what kind of data we have\n",
    "gg_df.columns"
   ]
  },
  {
   "cell_type": "markdown",
   "metadata": {},
   "source": [
    "### Analyzing Conversation"
   ]
  },
  {
   "cell_type": "code",
   "execution_count": 3,
   "metadata": {
    "collapsed": false
   },
   "outputs": [
    {
     "name": "stdout",
     "output_type": "stream",
     "text": [
      "215153\n"
     ]
    },
    {
     "data": {
      "text/plain": [
       "33080L"
      ]
     },
     "execution_count": 3,
     "metadata": {},
     "output_type": "execute_result"
    }
   ],
   "source": [
    "# Number of tweets sent\n",
    "print gg_df.shape[0]\n",
    "\n",
    "#Number of Unique screen names that sent tweets\n",
    "gg_df[\"user_screen_name\"].unique().shape[0]"
   ]
  },
  {
   "cell_type": "markdown",
   "metadata": {},
   "source": [
    "**The number of original tweets vs. retweets can indicate how much new information is being created in comparison to information that is being passed along;**\n",
    "\n",
    "To calculate the number of original tweets versus retweets are in the data we can do some counting:"
   ]
  },
  {
   "cell_type": "code",
   "execution_count": 5,
   "metadata": {
    "collapsed": false
   },
   "outputs": [
    {
     "name": "stdout",
     "output_type": "stream",
     "text": [
      "Num Retweets: 135829\n",
      "Num Original Tweets: 79324\n"
     ]
    }
   ],
   "source": [
    "# Number of Original Tweets\n",
    "# if reweet_id is null then it's original, otherwise the tweet is a retweet of the given retweet_id\n",
    "print \"Num Retweets:\", gg_df[\"reweet_id\"].count()\n",
    "retweets = gg_df[\"reweet_id\"].count()\n",
    "print \"Num Original Tweets:\", gg_df.shape[0] - retweets\n",
    "\n"
   ]
  },
  {
   "cell_type": "markdown",
   "metadata": {},
   "source": [
    "**The number of tweets that are replies directly to another users can be a measure of how \"chatty\" the event is;**\n"
   ]
  },
  {
   "cell_type": "code",
   "execution_count": 6,
   "metadata": {
    "collapsed": false
   },
   "outputs": [
    {
     "name": "stdout",
     "output_type": "stream",
     "text": [
      "Num Replies: 29423, which is 13.68% of total.\n"
     ]
    }
   ],
   "source": [
    "# Number of Reply Tweets\n",
    "# in_reply_to_status_id is not null if the tweet is a reply to another tweet. \n",
    "print \"Num Replies: %d, which is %.2f%% of total.\" %  (gg_df[\"in_reply_to_status_id\"].count(), float(gg_df[\"in_reply_to_status_id\"].count()) / gg_df.shape[0]*100) \n"
   ]
  },
  {
   "cell_type": "code",
   "execution_count": 7,
   "metadata": {
    "collapsed": false
   },
   "outputs": [
    {
     "name": "stdout",
     "output_type": "stream",
     "text": [
      "Top 10 Users by # Tweets\n"
     ]
    },
    {
     "data": {
      "text/plain": [
       "user_screen_name\n",
       "SomeKindaBoogin    1974\n",
       "KotakuInAction     1171\n",
       "WishiwasArcher     923 \n",
       "dav_thwomp         751 \n",
       "Queldan_WoW        731 \n",
       "MSamenfink         714 \n",
       "LapewtanMachine    710 \n",
       "Blaugast           666 \n",
       "Twodeadclerks      646 \n",
       "EscapeVelo         640 \n",
       "dtype: int64"
      ]
     },
     "execution_count": 7,
     "metadata": {},
     "output_type": "execute_result"
    }
   ],
   "source": [
    "gg_user = gg_df.groupby('user_screen_name')\n",
    "print \"Top 10 Users by # Tweets\"\n",
    "top10_users = gg_user.size().sort_values(ascending=False)[0:10]\n",
    "top10_users"
   ]
  },
  {
   "cell_type": "markdown",
   "metadata": {},
   "source": [
    "**Most active users on twitter in the DF and respective demographics**"
   ]
  },
  {
   "cell_type": "code",
   "execution_count": 8,
   "metadata": {
    "collapsed": false
   },
   "outputs": [
    {
     "name": "stdout",
     "output_type": "stream",
     "text": [
      "8926 tweets from top 10 users \n",
      "\n"
     ]
    },
    {
     "data": {
      "text/plain": [
       "user_screen_name\n",
       "Blaugast           10.977477\n",
       "EscapeVelo         7.137500 \n",
       "KotakuInAction     0.253629 \n",
       "LapewtanMachine    40.267606\n",
       "MSamenfink         8.044818 \n",
       "Queldan_WoW        48.035568\n",
       "SomeKindaBoogin    16.539514\n",
       "Twodeadclerks      16.973684\n",
       "WishiwasArcher     49.461538\n",
       "dav_thwomp         19.707057\n",
       "Name: retweet_count, dtype: float64"
      ]
     },
     "execution_count": 8,
     "metadata": {},
     "output_type": "execute_result"
    }
   ],
   "source": [
    "gg_top10_users = gg_df[gg_df[\"user_screen_name\"].isin(top10_users.index.values)]\n",
    "print \"%d tweets from top 10 users \\n\" % gg_top10_users.shape[0]\n",
    "top10_grouped = gg_top10_users.groupby(\"user_screen_name\")\n",
    "top10_grouped['retweet_count'].mean()\n",
    "\n"
   ]
  },
  {
   "cell_type": "markdown",
   "metadata": {},
   "source": [
    "**Sensive data and propogation on social media**"
   ]
  },
  {
   "cell_type": "code",
   "execution_count": 9,
   "metadata": {
    "collapsed": false
   },
   "outputs": [
    {
     "name": "stdout",
     "output_type": "stream",
     "text": [
      "28.0\n",
      "111.605734767\n"
     ]
    }
   ],
   "source": [
    "\n",
    "sensitive = gg_df[gg_df.possibly_sensitive == True]\n",
    "print sensitive[\"retweet_count\"].median() #gives the median and mean amount of retweets for data that can be considered sensitive\n",
    "print sensitive[\"retweet_count\"].mean()"
   ]
  },
  {
   "cell_type": "code",
   "execution_count": 88,
   "metadata": {
    "collapsed": false
   },
   "outputs": [
    {
     "data": {
      "text/plain": [
       "Index([u'long', u'lat', u'created_at', u'hashtags', u'media', u'urls',\n",
       "       u'favorite_count', u'id', u'in_reply_to_screen_name',\n",
       "       u'is_quote_status', u'in_reply_to_status_id', u'in_reply_to_user_id',\n",
       "       u'lang', u'place', u'state', u'country', u'possibly_sensitive',\n",
       "       u'retweet_count', u'reweet_id', u'retweet_screen_name', u'source',\n",
       "       u'text', u'tweet_url', u'user_created_at', u'user_screen_name',\n",
       "       u'user_default_profile_image', u'user_description',\n",
       "       u'user_favourites_count', u'user_followers_count',\n",
       "       u'user_friends_count', u'user_listed_count', u'user_location',\n",
       "       u'user_name', u'user_statuses_count', u'user_time_zone', u'user_urls',\n",
       "       u'user_verified', u'user_lang'],\n",
       "      dtype='object')"
      ]
     },
     "execution_count": 88,
     "metadata": {},
     "output_type": "execute_result"
    }
   ],
   "source": [
    "gg_df.columns"
   ]
  },
  {
   "cell_type": "markdown",
   "metadata": {},
   "source": [
    "### The Pulse of the Event\n",
    "What's the shape of the event in terms of the hashtags that are used? \n",
    "\n",
    "Let's first examine the set of hashtags that are used at all:"
   ]
  },
  {
   "cell_type": "code",
   "execution_count": 10,
   "metadata": {
    "collapsed": false
   },
   "outputs": [
    {
     "name": "stdout",
     "output_type": "stream",
     "text": [
      "Number of unique hashtags: 3506 \n",
      "\n",
      "Top Ten Hashtags:\n",
      "gamergate            216125\n",
      "notyourshield        21251 \n",
      "fullmcintosh         2704  \n",
      "stopgamergate2014    2264  \n",
      "gamejournopros       939   \n",
      "notyourscapegoat     846   \n",
      "iloveadobe           727   \n",
      "gamerfruit           546   \n",
      "videogames           382   \n",
      "notfeminism          336   \n",
      "Name: hashtag, dtype: int64\n",
      "\n",
      "['gamergate' 'notyourshield' 'fullmcintosh' 'stopgamergate2014'\n",
      " 'gamejournopros' 'notyourscapegoat' 'iloveadobe' 'gamerfruit' 'videogames'\n",
      " 'notfeminism']\n"
     ]
    }
   ],
   "source": [
    "# The hashtags field can have multiple hashtags stuffed into it, separated by a space so we need to parse those out separately to be able to count them\n",
    "hashtags_list = []\n",
    "\n",
    "def parse_hashtags(hashtags):\n",
    "    \n",
    "    hashtags_list.extend(hashtags.split(\" \"))\n",
    "    \n",
    "gg_df[\"hashtags\"].dropna().map(parse_hashtags)\n",
    "\n",
    "hashtags_df = pd.DataFrame(hashtags_list, columns=[\"hashtag\"])\n",
    "hashtags_df[\"hashtag\"] = hashtags_df[\"hashtag\"].map(lambda x: x.lower())\n",
    "print \"Number of unique hashtags: %d \" % hashtags_df[\"hashtag\"].unique().shape[0]\n",
    "print \"\\nTop Ten Hashtags:\"\n",
    "print hashtags_df[\"hashtag\"].value_counts()[0:10]\n",
    "\n",
    "print \"\"\n",
    "top_ten_hashtags = hashtags_df[\"hashtag\"].value_counts()[0:10].index.values\n",
    "print top_ten_hashtags"
   ]
  },
  {
   "cell_type": "markdown",
   "metadata": {},
   "source": [
    "Now let's plot these hashtags over time so we can see the shape of how they were used and if there are any patterns. "
   ]
  },
  {
   "cell_type": "code",
   "execution_count": 11,
   "metadata": {
    "collapsed": false
   },
   "outputs": [
    {
     "data": {
      "text/plain": [
       "array([[<matplotlib.axes._subplots.AxesSubplot object at 0x0000000013BA99B0>,\n",
       "        <matplotlib.axes._subplots.AxesSubplot object at 0x00000000115264E0>,\n",
       "        <matplotlib.axes._subplots.AxesSubplot object at 0x0000000011EA87F0>],\n",
       "       [<matplotlib.axes._subplots.AxesSubplot object at 0x000000000EB1C0B8>,\n",
       "        <matplotlib.axes._subplots.AxesSubplot object at 0x00000000106376A0>,\n",
       "        <matplotlib.axes._subplots.AxesSubplot object at 0x000000000A18CEF0>],\n",
       "       [<matplotlib.axes._subplots.AxesSubplot object at 0x0000000011412860>,\n",
       "        <matplotlib.axes._subplots.AxesSubplot object at 0x0000000010D80CC0>,\n",
       "        <matplotlib.axes._subplots.AxesSubplot object at 0x000000001541A828>]], dtype=object)"
      ]
     },
     "execution_count": 11,
     "metadata": {},
     "output_type": "execute_result"
    },
    {
     "data": {
      "image/png": "[encoded data removed]",
      "text/plain": [
       "<matplotlib.figure.Figure at 0x165d22e8>"
      ]
     },
     "metadata": {},
     "output_type": "display_data"
    }
   ],
   "source": [
    "# We need both the hashtags and the creation date in the same list to plot one against the other\n",
    "# Here just tabulate for the top 10 hashtags\n",
    "hashtags_list = []\n",
    "\n",
    "def parse_hashtags(row):\n",
    "    #print hashtags\n",
    "    htags = row[\"hashtags\"].split(\" \")\n",
    "    for h in htags:\n",
    "        if h in top_ten_hashtags:\n",
    "            hashtags_list.append([h.lower(), row[\"created_at\"]])\n",
    "    \n",
    "gg_df.dropna(subset=[\"hashtags\"]).apply(parse_hashtags, axis=1)\n",
    "\n",
    "# Create a data frame from the list\n",
    "hashtags_df = pd.DataFrame(hashtags_list, columns=[\"hashtag\", \"created_at\"])\n",
    "# Need to parse the created_at field as a datetime\n",
    "hashtags_df[\"created_at\"] = pd.DatetimeIndex(hashtags_df[\"created_at\"])\n",
    "# Now generate the histogram\n",
    "hashtags_df.hist(column=\"created_at\", by=\"hashtag\", bins=72, figsize=(12,12), sharex=True)"
   ]
  }
 ],
 "metadata": {
  "kernelspec": {
   "display_name": "Python 2",
   "language": "python",
   "name": "python2"
  },
  "language_info": {
   "codemirror_mode": {
    "name": "ipython",
    "version": 2
   },
   "file_extension": ".py",
   "mimetype": "text/x-python",
   "name": "python",
   "nbconvert_exporter": "python",
   "pygments_lexer": "ipython2",
   "version": "2.7.10"
  }
 },
 "nbformat": 4,
 "nbformat_minor": 0
}
